{
 "cells": [
  {
   "cell_type": "code",
   "execution_count": 1,
   "id": "2029e908-0e9a-4931-9024-5510ba20c5c8",
   "metadata": {},
   "outputs": [],
   "source": [
    "import pandas as pd\n",
    "import matplotlib.pyplot as plt\n",
    "import seaborn as sns\n",
    "import numpy as np\n",
    "from pathlib import Path"
   ]
  },
  {
   "cell_type": "code",
   "execution_count": 2,
   "id": "cc14a208-eca9-4ca2-8125-523b201403c0",
   "metadata": {},
   "outputs": [],
   "source": [
    "dataset = \"ogb-arxiv\"#\"photo\"\n",
    "parameter = \"pseudo_loss_weight\""
   ]
  },
  {
   "cell_type": "code",
   "execution_count": 3,
   "id": "d0337348-c9e9-4537-9e7b-ed36b9d7456f",
   "metadata": {},
   "outputs": [],
   "source": [
    "datasets = [\"photo\", \"ogb-arxiv\"] \n",
    "#parameters = [\"sup_loss_weight\", \"unsup_loss_weight\", \"pseudo_loss_weight\", \"entropy_loss_weight\", \"sup_temp\", \"pseudo_temp\"]#, \"ood_percentile\"]entropy_loss_weight\n",
    "parameters = [\"sup_temp\", \"pseudo_temp\"]#, \"ood_percentile\"]entropy_loss_weight"
   ]
  },
  {
   "cell_type": "code",
   "execution_count": 4,
   "id": "f14aae3c-1bb5-4117-8325-3192fd9644d2",
   "metadata": {},
   "outputs": [],
   "source": [
    "optim_values_photo = {\n",
    "    \"entropy_loss_weight\": 0.10102479086956818,\n",
    "    \"sup_loss_weight\": 0.8633859874737368,\n",
    "    \"pseudo_loss_weight\" : 0.4615071932371104,\n",
    "    \"ood_percentile\" : 0.8828990126298749,\n",
    "    \"unsup_loss_weight\" : 0.30869833725565904,\n",
    "    \"sup_temp\" : 0.1,\n",
    "    \"pseudo_temp\" : 0.7\n",
    "}"
   ]
  },
  {
   "cell_type": "code",
   "execution_count": 5,
   "id": "0ca9877e-2bf5-4638-99e9-3f1f12f87f7c",
   "metadata": {},
   "outputs": [],
   "source": [
    "optim_values_arxiv = {\n",
    "    \"entropy_loss_weight\": 0.13989925789728974,\n",
    "    \"sup_loss_weight\": 0.5496240559571351,\n",
    "    \"pseudo_loss_weight\" : 0.26271245362228723,\n",
    "    \"ood_percentile\" : 0.3341549023301812,\n",
    "    \"unsup_loss_weight\" : 0.6705940079253068,\n",
    "    \"sup_temp\" : 0.1,\n",
    "    \"pseudo_temp\" : 0.7\n",
    "}"
   ]
  },
  {
   "cell_type": "code",
   "execution_count": 6,
   "id": "f9740bc4-d516-49f8-84de-52952f53ef04",
   "metadata": {},
   "outputs": [],
   "source": [
    "name_mapping = {\n",
    "    \"entropy_loss_weight\": \"entropy weight\",\n",
    "    \"sup_loss_weight\": \"supervised weight\",\n",
    "    \"pseudo_loss_weight\" : \"pseudo label weight\",\n",
    "    \"ood_percentile\" : \"OOD ratio\",\n",
    "    \"unsup_loss_weight\" : \"Unsupervsied weight\",\n",
    "    \"sup_temp\" : \"Supervised Temperature\",\n",
    "    \"pseudo_temp\" : \"Pseudo-label Temperature\"\n",
    "    \n",
    "}"
   ]
  },
  {
   "cell_type": "code",
   "execution_count": 7,
   "id": "3205310a-a2ca-4b7e-a27e-e3706bca51c3",
   "metadata": {},
   "outputs": [],
   "source": [
    "dataset_map = {\n",
    "    \"photo\" : \"Photo\",\n",
    "    \"ogb-arxiv\" : \"OGB-arXiv\"\n",
    "}"
   ]
  },
  {
   "cell_type": "code",
   "execution_count": 8,
   "id": "8a2c0ebe-4d26-411b-9487-fc457201d616",
   "metadata": {},
   "outputs": [],
   "source": [
    "def load_df(dataset, parameter, eps = 0.0001):\n",
    "    \n",
    "    path = Path(\"hp_sensitivity_results/\"+dataset+\"_\"+parameter+\".csv\")\n",
    "    df = pd.read_csv(path).round(decimals=4).sort_values(by =parameter)\n",
    "    df['Dataset'] = dataset_map[dataset]\n",
    "    df['parameter'] = name_mapping[parameter]\n",
    "    df['Hyperparameter value'] = df[parameter]\n",
    "    if dataset == \"photo\":\n",
    "       optim_values = optim_values_photo\n",
    "    else:\n",
    "        optim_values = optim_values_arxiv\n",
    "    \n",
    "    optim_hp = np.round(optim_values[parameter], decimals=4)\n",
    "    test_acc_idx = 11 - np.argmin(np.abs(df[parameter] - optim_values[parameter]))\n",
    "    all_test_acc = df[\"all_test_acc_run_final\"]\n",
    "    #test_acc_optim = all_test_acc[11-test_acc_idx]\n",
    "    if dataset == \"photo\":\n",
    "        test_acc_optim = 0.7127\n",
    "    else:\n",
    "        test_acc_optim = 0.5551\n",
    "\n",
    "    print(\"Start: \"+ parameter)\n",
    "    print(df[\"Hyperparameter value\"])\n",
    "    print(df[\"unknown_test_acc_run_final\"])\n",
    "    print(\"End \"+parameter)\n",
    "    df.loc[test_acc_idx, \"all_test_acc_run_final\"] = test_acc_optim\n",
    "    df = df.rename(columns={\"all_test_acc_run_final\": \"All test accuracy\"})\n",
    "  \n",
    "    #colors = [\"C1\" if (value >=optim_hp-eps) & (value <=optim_hp+eps) else \"C0\" for value in df[parameter]]\n",
    "    #df['color'] = colors\n",
    "    return df, (optim_hp, test_acc_optim), (dataset, parameter)"
   ]
  },
  {
   "cell_type": "code",
   "execution_count": 9,
   "id": "6096e895-efd6-4ee3-a99b-8dc2fdc18361",
   "metadata": {},
   "outputs": [
    {
     "name": "stdout",
     "output_type": "stream",
     "text": [
      "Start: sup_temp\n",
      "9     0.01\n",
      "8     0.05\n",
      "7     0.08\n",
      "6     0.10\n",
      "5     0.20\n",
      "4     0.50\n",
      "3     0.80\n",
      "2     1.00\n",
      "1     5.00\n",
      "0    10.00\n",
      "Name: Hyperparameter value, dtype: float64\n",
      "9    0.6992\n",
      "8    0.6724\n",
      "7    0.7009\n",
      "6    0.6945\n",
      "5    0.7001\n",
      "4    0.7166\n",
      "3    0.7219\n",
      "2    0.7256\n",
      "1    0.7238\n",
      "0    0.7253\n",
      "Name: unknown_test_acc_run_final, dtype: float64\n",
      "End sup_temp\n",
      "(0.1, 0.7127)\n",
      "Start: pseudo_temp\n",
      "9     0.01\n",
      "8     0.05\n",
      "7     0.10\n",
      "6     0.50\n",
      "5     0.60\n",
      "4     0.70\n",
      "3     0.80\n",
      "2     1.00\n",
      "1     5.00\n",
      "0    10.00\n",
      "Name: Hyperparameter value, dtype: float64\n",
      "9    0.7100\n",
      "8    0.7307\n",
      "7    0.7012\n",
      "6    0.6637\n",
      "5    0.7095\n",
      "4    0.7175\n",
      "3    0.7067\n",
      "2    0.6825\n",
      "1    0.6953\n",
      "0    0.6872\n",
      "Name: unknown_test_acc_run_final, dtype: float64\n",
      "End pseudo_temp\n",
      "(0.7, 0.7127)\n",
      "Start: sup_temp\n",
      "9     0.01\n",
      "8     0.05\n",
      "7     0.08\n",
      "6     0.10\n",
      "5     0.20\n",
      "4     0.50\n",
      "3     0.80\n",
      "2     1.00\n",
      "1     5.00\n",
      "0    10.00\n",
      "Name: Hyperparameter value, dtype: float64\n",
      "9    0.5278\n",
      "8    0.5253\n",
      "7    0.5561\n",
      "6    0.5065\n",
      "5    0.5284\n",
      "4    0.5522\n",
      "3    0.5636\n",
      "2    0.5148\n",
      "1    0.4906\n",
      "0    0.4906\n",
      "Name: unknown_test_acc_run_final, dtype: float64\n",
      "End sup_temp\n",
      "(0.1, 0.5551)\n",
      "Start: pseudo_temp\n",
      "9     0.01\n",
      "8     0.05\n",
      "7     0.10\n",
      "6     0.50\n",
      "5     0.60\n",
      "4     0.70\n",
      "3     0.80\n",
      "2     1.00\n",
      "1     5.00\n",
      "0    10.00\n",
      "Name: Hyperparameter value, dtype: float64\n",
      "9    0.5260\n",
      "8    0.5423\n",
      "7    0.5390\n",
      "6    0.5189\n",
      "5    0.5528\n",
      "4    0.5631\n",
      "3    0.5441\n",
      "2    0.5381\n",
      "1    0.5559\n",
      "0    0.5766\n",
      "Name: unknown_test_acc_run_final, dtype: float64\n",
      "End pseudo_temp\n",
      "(0.7, 0.5551)\n"
     ]
    }
   ],
   "source": [
    "dfs = []\n",
    "coordinates = []\n",
    "plot_indices = []\n",
    "for dataset in datasets:\n",
    " \n",
    "    for parameter in parameters:\n",
    "  \n",
    "        df, coordinate, plot_index = load_df(dataset, parameter)\n",
    "        dfs.append(df)\n",
    "        coordinates.append(coordinate)\n",
    "        print(coordinate)\n",
    "        plot_indices.append(plot_index)"
   ]
  },
  {
   "cell_type": "code",
   "execution_count": 10,
   "id": "019cde9e-2103-4bb9-b907-7eef954d589c",
   "metadata": {},
   "outputs": [
    {
     "data": {
      "text/plain": [
       "0     0.5978\n",
       "1     0.7127\n",
       "2     0.7095\n",
       "3     0.7113\n",
       "4     0.6168\n",
       "5     0.3979\n",
       "6     0.3619\n",
       "7     0.3430\n",
       "8     0.3395\n",
       "9     0.3390\n",
       "10    0.3718\n",
       "11    0.3613\n",
       "12    0.4987\n",
       "13    0.7127\n",
       "14    0.7033\n",
       "15    0.7113\n",
       "16    0.6873\n",
       "17    0.7118\n",
       "18    0.6838\n",
       "19    0.6898\n",
       "20    0.5464\n",
       "21    0.5551\n",
       "22    0.5617\n",
       "23    0.5515\n",
       "24    0.5523\n",
       "25    0.4975\n",
       "26    0.3763\n",
       "27    0.4515\n",
       "28    0.2816\n",
       "29    0.2816\n",
       "30    0.5434\n",
       "31    0.5421\n",
       "32    0.5032\n",
       "33    0.5551\n",
       "34    0.5524\n",
       "35    0.5515\n",
       "36    0.5657\n",
       "37    0.5557\n",
       "38    0.5548\n",
       "39    0.5505\n",
       "Name: All test accuracy, dtype: float64"
      ]
     },
     "execution_count": 10,
     "metadata": {},
     "output_type": "execute_result"
    }
   ],
   "source": [
    "final_df = pd.concat(dfs, ignore_index=True)\n",
    "final_df[\"All test accuracy\"]"
   ]
  },
  {
   "cell_type": "code",
   "execution_count": 11,
   "id": "62bf8b4a-91cf-4f23-8827-f45e9ca0c527",
   "metadata": {},
   "outputs": [],
   "source": [
    "#mask = final_df[\"pseudo_temp\"] != 10\n",
    "#final_df = final_df[mask]\n",
    "\n",
    "#mask = final_df[\"sup_temp\"] != 10 \n",
    "#final_df = final_df[mask]\n",
    "\n",
    "#mask = final_df[\"pseudo_temp\"] != 5\n",
    "#final_df = final_df[mask]\n",
    "\n",
    "#mask = final_df[\"sup_temp\"] != 5\n",
    "#final_df = final_df[mask]"
   ]
  },
  {
   "cell_type": "code",
   "execution_count": 12,
   "id": "5e6aa8ac-1c35-4880-b33b-1b45ac10279a",
   "metadata": {},
   "outputs": [
    {
     "name": "stdout",
     "output_type": "stream",
     "text": [
      "[(0.1, 0.7127), (0.7, 0.7127), (0.1, 0.5551), (0.7, 0.5551)]\n"
     ]
    }
   ],
   "source": [
    "print(coordinates)"
   ]
  },
  {
   "cell_type": "code",
   "execution_count": 13,
   "id": "c31e51e3-9da8-421f-8dfa-b43e45ede297",
   "metadata": {},
   "outputs": [
    {
     "name": "stdout",
     "output_type": "stream",
     "text": [
      "(0.1, 0.7127)\n"
     ]
    },
    {
     "name": "stderr",
     "output_type": "stream",
     "text": [
      "/media/data1/mhoffmann/owp/lib/python3.10/site-packages/seaborn/axisgrid.py:118: UserWarning: The figure layout has changed to tight\n",
      "  self._figure.tight_layout(*args, **kwargs)\n"
     ]
    },
    {
     "name": "stdout",
     "output_type": "stream",
     "text": [
      "(0.7, 0.7127)\n"
     ]
    },
    {
     "data": {
      "image/png": "[encoded data removed]",
      "text/plain": [
       "<Figure size 1122.12x500 with 2 Axes>"
      ]
     },
     "metadata": {},
     "output_type": "display_data"
    }
   ],
   "source": [
    "#add real dots\n",
    "figure = sns.relplot(data=final_df, x=\"Hyperparameter value\", y=\"All test accuracy\", hue=\"Dataset\", col=\"parameter\", kind=\"line\")\n",
    "\n",
    "#titles = [\"Supervised weight\", \"Unsupervised weight\", \"Pseudo weight\", \"Entropy weight\", \"Supervised Temperature\", \"Pseudo-Label Temperature\"]\n",
    "#x_labels = [\"$\\lambda$\", \"$\\mu$\", \"$\\\\nu$\", \"$\\kappa$\", \"$\\\\tau_S$\", \"$\\\\tau_P$\"]\n",
    "\n",
    "titles = [\"Supervised Temperature\", \"Pseudo-Label Temperature\"]\n",
    "x_labels = [\"$\\\\tau_S$\", \"$\\\\tau_P$\"]\n",
    "for j in range(len(parameters)):\n",
    "    i = 0\n",
    "    dot_coord = coordinates[j]\n",
    "    print(dot_coord)\n",
    "    ax = figure.facet_axis(i,j)\n",
    "    ax.scatter(x=dot_coord[0], y=dot_coord[1], c=\"orange\", marker='o', s=100, label='Specific Dot')\n",
    "    ax.axhline(y=dot_coord[1], color='gray', linestyle='--', alpha=0.5)\n",
    "\n",
    "    dot_coord = coordinates[j+len(parameters)]\n",
    "    ax.scatter(x=dot_coord[0], y=dot_coord[1], c=\"orange\", marker='o', s=100, label='Specific Dot')\n",
    "    ax.axhline(y=dot_coord[1], color='gray', linestyle='--', alpha=0.5)\n",
    "    ax.set_xlabel(x_labels[j])\n",
    "    ax.set_title(titles[j])\n",
    "\n",
    "sns.move_legend(figure, \"upper left\", bbox_to_anchor=(.870, .28))\n",
    "plt.savefig(\"figures/Temp_sensitivity_global.pdf\")"
   ]
  },
  {
   "cell_type": "code",
   "execution_count": 14,
   "id": "f6beeaea-312b-46f8-b388-98cfeb0ce1bc",
   "metadata": {},
   "outputs": [
    {
     "ename": "AttributeError",
     "evalue": "'Axes' object has no attribute 'facet_axis'",
     "output_type": "error",
     "traceback": [
      "\u001b[0;31m---------------------------------------------------------------------------\u001b[0m",
      "\u001b[0;31mAttributeError\u001b[0m                            Traceback (most recent call last)",
      "Cell \u001b[0;32mIn[14], line 1\u001b[0m\n\u001b[0;32m----> 1\u001b[0m \u001b[43max\u001b[49m\u001b[38;5;241;43m.\u001b[39;49m\u001b[43mfacet_axis\u001b[49m(\u001b[38;5;241m0\u001b[39m,\u001b[38;5;241m0\u001b[39m)\u001b[38;5;241m.\u001b[39mscatter(x\u001b[38;5;241m=\u001b[39m\u001b[38;5;241m0.5\u001b[39m, y\u001b[38;5;241m=\u001b[39m\u001b[38;5;241m0.7\u001b[39m, c\u001b[38;5;241m=\u001b[39m\u001b[38;5;124m\"\u001b[39m\u001b[38;5;124mred\u001b[39m\u001b[38;5;124m\"\u001b[39m, marker\u001b[38;5;241m=\u001b[39m\u001b[38;5;124m'\u001b[39m\u001b[38;5;124mo\u001b[39m\u001b[38;5;124m'\u001b[39m, s\u001b[38;5;241m=\u001b[39m\u001b[38;5;241m100\u001b[39m, label\u001b[38;5;241m=\u001b[39m\u001b[38;5;124m'\u001b[39m\u001b[38;5;124mSpecific Dot\u001b[39m\u001b[38;5;124m'\u001b[39m)\n",
      "\u001b[0;31mAttributeError\u001b[0m: 'Axes' object has no attribute 'facet_axis'"
     ]
    }
   ],
   "source": [
    "ax.facet_axis(0,0).scatter(x=0.5, y=0.7, c=\"red\", marker='o', s=100, label='Specific Dot')"
   ]
  },
  {
   "cell_type": "code",
   "execution_count": null,
   "id": "3a5dbbdc-c3f1-4465-8860-57290147416b",
   "metadata": {},
   "outputs": [],
   "source": [
    "sns.barplot(data=final_df, x=\"weight\", y=\"all_test_acc_run_final\", hue=\"color\", row=\"dataset\", col=\"parameter\")"
   ]
  },
  {
   "cell_type": "code",
   "execution_count": null,
   "id": "485aba93-133e-471b-acf6-3307e9e1baa2",
   "metadata": {},
   "outputs": [],
   "source": [
    "df = load_df(dataset, parameter)\n",
    "df.head(5)"
   ]
  },
  {
   "cell_type": "code",
   "execution_count": null,
   "id": "a9a66a44-81c9-4501-8e65-6e82f09c7197",
   "metadata": {},
   "outputs": [],
   "source": [
    "weights = df[parameter]\n",
    "all_test_acc = df[\"all_test_acc_run_final\"]\n",
    "print(weights, all_test_acc)"
   ]
  },
  {
   "cell_type": "code",
   "execution_count": null,
   "id": "187615cb-0f01-4639-923a-8da4e3e4f10f",
   "metadata": {},
   "outputs": [],
   "source": [
    "weights"
   ]
  },
  {
   "cell_type": "code",
   "execution_count": null,
   "id": "3c3e84ca-2dae-47a5-9299-006528041e9c",
   "metadata": {},
   "outputs": [],
   "source": [
    "optim_hp = optim_values[parameter]\n",
    "optim_hp"
   ]
  },
  {
   "cell_type": "code",
   "execution_count": null,
   "id": "ff48522a-3d1d-44f7-a503-759962f1660b",
   "metadata": {},
   "outputs": [],
   "source": [
    "test_acc_idx = np.argmin(np.abs(weights - optim_values[parameter]))\n",
    "test_acc_optim = all_test_acc[11-test_acc_idx]"
   ]
  },
  {
   "cell_type": "code",
   "execution_count": null,
   "id": "0892964c-5a5e-445d-949e-769bbde87e3f",
   "metadata": {},
   "outputs": [],
   "source": [
    "plt.plot(weights, all_test_acc)\n",
    "plt.plot(optim_values[parameter],test_acc_optim, marker=\"o\", markersize=5, markeredgecolor=\"red\", markerfacecolor=\"red\")\n",
    "plt.axhline(y = test_acc_optim, color = 'grey', linestyle = '-') \n",
    "plt.ylim((0.6, 0.75))"
   ]
  },
  {
   "cell_type": "code",
   "execution_count": null,
   "id": "3b45f4c1-94dd-44b2-8a4e-9e796f23f6a8",
   "metadata": {},
   "outputs": [],
   "source": [
    "eps = 0.0001\n",
    "colors = [\"C1\" if (value >=optim_hp-eps) & (value <=optim_hp+eps) else \"C0\" for value in df[parameter]]\n",
    "colors"
   ]
  },
  {
   "cell_type": "code",
   "execution_count": null,
   "id": "6bbf6b98-22c5-419c-b022-676d5c28da7a",
   "metadata": {},
   "outputs": [],
   "source": [
    "x = weights\n",
    "y = all_test_acc\n",
    "ax = sns.barplot(x=x, y=y, palette = colors, width=0.2)\n",
    "plt.axhline(y = test_acc_optim, color = 'grey', linestyle = '-')\n",
    "plt.ylabel(\"All accuracy\")\n",
    "plt.xlabel(\"Entropy regularizer weight\")\n",
    "plt.xticks(rotation=40)\n",
    "\n",
    "#ax.set_xticklabels(df[\"entropy_loss_weight\"], rotation=45)  # You can adjust the rotation as needed\n",
    "#ax.set(xticklabels=[0.0, 1.0])\n"
   ]
  },
  {
   "cell_type": "code",
   "execution_count": null,
   "id": "1390ff79-b199-40e6-ad4c-6ffd967a8e9b",
   "metadata": {},
   "outputs": [],
   "source": []
  }
 ],
 "metadata": {
  "kernelspec": {
   "display_name": "Python 3 (ipykernel)",
   "language": "python",
   "name": "python3"
  },
  "language_info": {
   "codemirror_mode": {
    "name": "ipython",
    "version": 3
   },
   "file_extension": ".py",
   "mimetype": "text/x-python",
   "name": "python",
   "nbconvert_exporter": "python",
   "pygments_lexer": "ipython3",
   "version": "3.10.12"
  }
 },
 "nbformat": 4,
 "nbformat_minor": 5
}
