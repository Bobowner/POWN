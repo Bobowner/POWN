{
 "cells": [
  {
   "cell_type": "code",
   "execution_count": 4,
   "id": "dd4aa5d2-6309-4193-b410-e5b5e0cc3399",
   "metadata": {},
   "outputs": [],
   "source": [
    "import pandas as pd \n",
    "import numpy as np\n",
    "from pathlib import Path"
   ]
  },
  {
   "cell_type": "code",
   "execution_count": 6,
   "id": "38b3f929-c513-49a6-882b-070d2bd46918",
   "metadata": {},
   "outputs": [],
   "source": [
    "def calc_mean_and_stderr(df):\n",
    "    N = df.shape[0]\n",
    "    mean = df.mean()\n",
    "    std_err = df.std()/np.sqrt(N)\n",
    "\n",
    "    round_2 = lambda x : np.around(x, decimals=4)\n",
    "\n",
    "    return round_2(mean*100), round_2(std_err*100)"
   ]
  },
  {
   "cell_type": "markdown",
   "id": "dc64c3ac-7a25-4670-a938-186e02bc8fc4",
   "metadata": {},
   "source": [
    "### POWN"
   ]
  },
  {
   "cell_type": "code",
   "execution_count": 3,
   "id": "e643a303-8a02-45bb-b486-fee2d3560445",
   "metadata": {},
   "outputs": [
    {
     "data": {
      "text/plain": [
       "0    0.597701\n",
       "1    0.648789\n",
       "2    0.597796\n",
       "3    0.607759\n",
       "4    0.673010\n",
       "Name: bright-sweep-984 - all_test_acc_run, dtype: float64"
      ]
     },
     "execution_count": 3,
     "metadata": {},
     "output_type": "execute_result"
    }
   ],
   "source": [
    "model = \"pown\"\n",
    "dataset = \"cora\"\n",
    "measure = \"all\"\n",
    "\n",
    "path = Path(\"wandb_results/\"+model+\"_\"+dataset+\"_\"+\"test_acc_\"+measure+\".csv\")\n",
    "\n",
    "df = pd.read_csv(path).iloc[:, 1]\n",
    "df.head()"
   ]
  },
  {
   "cell_type": "code",
   "execution_count": 4,
   "id": "888f040d-1ed0-4a07-b8a0-4f3109611287",
   "metadata": {},
   "outputs": [
    {
     "name": "stdout",
     "output_type": "stream",
     "text": [
      "pown cora all :  61.2833   1.0964\n",
      "pown cora known :  87.9458   1.998\n",
      "pown cora unknown :  63.2927   1.5855\n",
      "pown citeseer all :  56.1521   1.5649\n",
      "pown citeseer known :  75.451   2.3121\n",
      "pown citeseer unknown :  57.2923   2.2231\n",
      "pown photo all :  71.2735   1.4354\n",
      "pown photo known :  91.2624   0.9659\n",
      "pown photo unknown :  71.5074   2.7434\n",
      "pown computers all :  71.3256   1.8443\n",
      "pown computers known :  82.447   2.9095\n",
      "pown computers unknown :  65.6143   2.9451\n",
      "pown ogb-arxiv all :  55.807   4.2594\n",
      "pown ogb-arxiv known :  71.2441   2.5978\n",
      "pown ogb-arxiv unknown :  56.1098   5.3523\n",
      "pown reddit2 all :  76.993   2.3311\n",
      "pown reddit2 known :  92.521   0.8747\n",
      "pown reddit2 unknown :  64.4233   2.6144\n",
      "gcn cora all :  54.4756   0.7449\n",
      "gcn cora known :  95.1876   0.2784\n",
      "gcn cora unknown :  62.1633   1.8176\n",
      "gcn citeseer all :  50.9903   0.9247\n",
      "gcn citeseer known :  85.9253   1.4271\n",
      "gcn citeseer unknown :  57.7495   1.5973\n",
      "gcn photo all :  41.3565   1.7697\n",
      "gcn photo known :  37.9894   3.6698\n",
      "gcn photo unknown :  69.9073   1.5319\n",
      "gcn computers all :  48.8722   1.752\n",
      "gcn computers known :  34.5011   4.6538\n",
      "gcn computers unknown :  79.5467   1.4563\n",
      "gcn ogb-arxiv all :  28.1632   1.4547\n",
      "gcn ogb-arxiv known :  27.063   5.0424\n",
      "gcn ogb-arxiv unknown :  49.0636   5.1017\n",
      "gcn reddit2 all :  46.0453   2.191\n",
      "gcn reddit2 known :  55.1591   2.3398\n",
      "gcn reddit2 unknown :  56.8809   2.1077\n",
      "owgl cora all :  64.097   2.2486\n",
      "owgl cora known :  61.7374   4.6906\n",
      "owgl cora unknown :  68.8754   3.217\n",
      "owgl citeseer all :  50.3788   2.4896\n",
      "owgl citeseer known :  38.1811   0.9928\n",
      "owgl citeseer unknown :  58.8794   2.2231\n",
      "owgl photo all :  62.45   0.9386\n",
      "owgl photo known :  60.0592   1.3483\n",
      "owgl photo unknown :  66.036   2.4774\n",
      "owgl computers all :  51.1785   1.6121\n",
      "owgl computers known :  36.9277   4.0566\n",
      "owgl computers unknown :  55.9946   4.3645\n",
      "owgl ogb-arxiv all :  31.6219   1.7214\n",
      "owgl ogb-arxiv known :  27.0372   2.5773\n",
      "owgl ogb-arxiv unknown :  28.1557   1.2911\n",
      "owgl reddit2 all :  15.9346   1.0807\n",
      "owgl reddit2 known :  7.4717   1.5033\n",
      "owgl reddit2 unknown :  32.3814   1.3589\n",
      "openssl cora all :  38.8479   2.2244\n",
      "openssl cora known :  9.8334   2.8759\n",
      "openssl cora unknown :  41.9729   2.2094\n",
      "openssl citeseer all :  38.6743   2.5662\n",
      "openssl citeseer known :  20.5456   4.8813\n",
      "openssl citeseer unknown :  41.1728   2.2164\n",
      "openssl photo all :  25.8746   0.9408\n",
      "openssl photo known :  10.3136   2.063\n",
      "openssl photo unknown :  32.967   5.8077\n",
      "openssl computers all :  22.2722   0.8017\n",
      "openssl computers known :  8.8476   2.4878\n",
      "openssl computers unknown :  40.4001   7.9079\n",
      "openssl ogb-arxiv all :  28.1632   1.4547\n",
      "openssl ogb-arxiv known :  0.1695   0.0822\n",
      "openssl ogb-arxiv unknown :  49.0636   5.1017\n",
      "openssl reddit2 all :  17.9967   0.963\n",
      "openssl reddit2 known :  2.4685   0.6124\n",
      "openssl reddit2 unknown :  19.6237   1.4229\n",
      "spectral cora all :  29.613   0.9681\n",
      "spectral cora known :  15.7592   6.7004\n",
      "spectral cora unknown :  39.224   1.4714\n",
      "spectral citeseer all :  32.2559   0.6718\n",
      "spectral citeseer known :  18.3819   1.8691\n",
      "spectral citeseer unknown :  37.6955   0.5161\n",
      "spectral photo all :  27.115   0.35\n",
      "spectral photo known :  12.4486   3.8436\n",
      "spectral photo unknown :  36.6763   0.8604\n",
      "spectral computers all :  29.9891   0.5373\n",
      "spectral computers known :  9.5587   2.7165\n",
      "spectral computers unknown :  56.5106   2.1288\n",
      "spectral ogb-arxiv all :  24.2376   0.7129\n",
      "spectral ogb-arxiv known :  1.1718   0.4868\n",
      "spectral ogb-arxiv unknown :  37.8063   3.3302\n"
     ]
    }
   ],
   "source": [
    "models = [\"pown\", \"gcn\", \"owgl\", \"openssl\", \"spectral\"]\n",
    "datasets = [\"cora\", \"citeseer\", \"photo\", \"computers\", \"ogb-arxiv\", \"reddit2\"]\n",
    "measures = [\"all\", \"known\", \"unknown\"]\n",
    "\n",
    "for model in models:\n",
    "    for dataset in datasets:\n",
    "        if model == \"spectral\" and dataset == \"reddit2\":\n",
    "            continue\n",
    "        for measure in measures:\n",
    "            path = Path(\"wandb_results/\"+model+\"_\"+dataset+\"_\"+\"test_acc_\"+measure+\".csv\")\n",
    "            df = pd.read_csv(path).iloc[:, 1]\n",
    "            mean, sterr = calc_mean_and_stderr(df)\n",
    "            print(model, dataset, measure, \": \", mean, \" \", sterr) \n"
   ]
  },
  {
   "cell_type": "code",
   "execution_count": 5,
   "id": "42c6a974-bc3b-4f3c-9f86-8edfe4c08bb8",
   "metadata": {},
   "outputs": [
    {
     "data": {
      "text/plain": [
       "(61.2833, 1.0964)"
      ]
     },
     "execution_count": 5,
     "metadata": {},
     "output_type": "execute_result"
    }
   ],
   "source": [
    "df = pd.read_csv(\"wandb_results/pown_cora_test_acc_all.csv\")[\"bright-sweep-984 - all_test_acc_run\"]\n",
    "calc_mean_and_stderr(df)"
   ]
  },
  {
   "cell_type": "code",
   "execution_count": 6,
   "id": "a653f2de-6bc8-40ab-8ee5-656fe8cdab29",
   "metadata": {},
   "outputs": [
    {
     "data": {
      "text/plain": [
       "(56.1521, 1.5649)"
      ]
     },
     "execution_count": 6,
     "metadata": {},
     "output_type": "execute_result"
    }
   ],
   "source": [
    "df = pd.read_csv(\"wandb_results/pown_citeseer_test_acc_all.csv\")[\"lemon-sweep-1985 - all_test_acc_run\"]\n",
    "calc_mean_and_stderr(df)"
   ]
  },
  {
   "cell_type": "code",
   "execution_count": 7,
   "id": "e2292362-90b7-4474-b969-430e43e4554a",
   "metadata": {},
   "outputs": [
    {
     "data": {
      "text/plain": [
       "(71.2735, 1.4354)"
      ]
     },
     "execution_count": 7,
     "metadata": {},
     "output_type": "execute_result"
    }
   ],
   "source": [
    "df = pd.read_csv(\"wandb_results/pown_photo_test_acc_all.csv\")[\"rural-sweep-1389 - all_test_acc_run\"]\n",
    "calc_mean_and_stderr(df)"
   ]
  },
  {
   "cell_type": "code",
   "execution_count": 8,
   "id": "ede88b41-ec17-4ce7-b65e-94e2ec3aa3df",
   "metadata": {},
   "outputs": [
    {
     "data": {
      "text/plain": [
       "(71.2735, 1.4354)"
      ]
     },
     "execution_count": 8,
     "metadata": {},
     "output_type": "execute_result"
    }
   ],
   "source": [
    "df = pd.read_csv(\"wandb_results/pown_photo_test_acc_all.csv\")[\"rural-sweep-1389 - all_test_acc_run\"]\n",
    "calc_mean_and_stderr(df)"
   ]
  },
  {
   "cell_type": "code",
   "execution_count": 9,
   "id": "92a23f5c-fdbc-4b81-a47c-a9b3218d440a",
   "metadata": {},
   "outputs": [
    {
     "data": {
      "text/plain": [
       "(71.3256, 1.8443)"
      ]
     },
     "execution_count": 9,
     "metadata": {},
     "output_type": "execute_result"
    }
   ],
   "source": [
    "df = pd.read_csv(\"wandb_results/pown_computers_test_acc_all.csv\")[\"robust-sweep-590 - all_test_acc_run\"]\n",
    "calc_mean_and_stderr(df)"
   ]
  },
  {
   "cell_type": "code",
   "execution_count": 10,
   "id": "c3edfba3-536b-4802-af2d-5c03087dfaca",
   "metadata": {},
   "outputs": [
    {
     "data": {
      "text/plain": [
       "(55.807, 4.2594)"
      ]
     },
     "execution_count": 10,
     "metadata": {},
     "output_type": "execute_result"
    }
   ],
   "source": [
    "df = pd.read_csv(\"wandb_results/pown_ogb-arxiv_test_acc_all.csv\")[\"smart-sweep-91 - all_test_acc_run\"]\n",
    "calc_mean_and_stderr(df)"
   ]
  },
  {
   "cell_type": "code",
   "execution_count": 11,
   "id": "40375e00-d9d0-4ab7-8e3c-4536c65e0472",
   "metadata": {},
   "outputs": [
    {
     "data": {
      "text/plain": [
       "True"
      ]
     },
     "execution_count": 11,
     "metadata": {},
     "output_type": "execute_result"
    }
   ],
   "source": [
    "None == None"
   ]
  },
  {
   "cell_type": "markdown",
   "id": "2a57c9e7-24c1-4c1a-96d1-4b7949715462",
   "metadata": {},
   "source": [
    "### W/o Loss"
   ]
  },
  {
   "cell_type": "code",
   "execution_count": 10,
   "id": "5143195e-b013-4106-9f30-7cbdaa628482",
   "metadata": {},
   "outputs": [
    {
     "name": "stdout",
     "output_type": "stream",
     "text": [
      "noentro photo all :  69.3785   1.4957\n",
      "noentro photo known :  89.966   0.9305\n",
      "noentro photo unknown :  65.6236   2.7141\n",
      "noentro arxiv all :  58.8379   3.3791\n",
      "noentro arxiv known :  66.6998   4.0659\n",
      "noentro arxiv unknown :  53.2677   4.8964\n",
      "nosup photo all :  33.9461   0.7058\n",
      "nosup photo known :  4.3166   1.4448\n",
      "nosup photo unknown :  72.5378   0.4028\n",
      "nosup arxiv all :  28.1632   2.1821\n",
      "nosup arxiv known :  0.1062   0.0456\n",
      "nosup arxiv unknown :  49.0636   7.6526\n",
      "nounsup photo all :  75.125   1.6792\n",
      "nounsup photo known :  92.7569   0.6563\n",
      "nounsup photo unknown :  70.183   2.9898\n",
      "nounsup arxiv all :  56.9055   4.4885\n",
      "nounsup arxiv known :  69.0923   5.39\n",
      "nounsup arxiv unknown :  50.8047   3.7307\n",
      "nopseudo photo all :  69.4966   1.9921\n",
      "nopseudo photo known :  90.4327   1.7774\n",
      "nopseudo photo unknown :  70.9382   2.9033\n",
      "nopseudo arxiv all :  55.3067   3.555\n",
      "nopseudo arxiv known :  72.7132   2.0168\n",
      "nopseudo arxiv unknown :  55.4615   4.768\n"
     ]
    }
   ],
   "source": [
    "losses = [\"noentro\", \"nosup\", \"nounsup\", \"nopseudo\"]\n",
    "datasets = [\"photo\", \"arxiv\"]\n",
    "measures = [\"all\", \"known\", \"unknown\"]\n",
    "\n",
    "for loss in losses:\n",
    "    for dataset in datasets:\n",
    "        for measure in measures:\n",
    "            path = Path(\"wandb_results/\"+loss+\"_\"+dataset+\"_\"+measure+\".csv\")\n",
    "            df = pd.read_csv(path).iloc[:, 1]\n",
    "            mean, sterr = calc_mean_and_stderr(df)\n",
    "            print(loss, dataset, measure, \": \", mean, \" \", sterr) \n"
   ]
  },
  {
   "cell_type": "code",
   "execution_count": null,
   "id": "cbbe8ccd-bc5b-4e86-bfe6-f8eaba1833c4",
   "metadata": {},
   "outputs": [],
   "source": []
  }
 ],
 "metadata": {
  "kernelspec": {
   "display_name": "Python 3 (ipykernel)",
   "language": "python",
   "name": "python3"
  },
  "language_info": {
   "codemirror_mode": {
    "name": "ipython",
    "version": 3
   },
   "file_extension": ".py",
   "mimetype": "text/x-python",
   "name": "python",
   "nbconvert_exporter": "python",
   "pygments_lexer": "ipython3",
   "version": "3.10.12"
  }
 },
 "nbformat": 4,
 "nbformat_minor": 5
}
