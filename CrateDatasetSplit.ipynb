{
 "cells": [
  {
   "cell_type": "code",
   "execution_count": 13,
   "id": "ce47906d-8d64-463b-b4c7-bceb7513ed17",
   "metadata": {},
   "outputs": [
    {
     "name": "stdout",
     "output_type": "stream",
     "text": [
      "The autoreload extension is already loaded. To reload it, use:\n",
      "  %reload_ext autoreload\n"
     ]
    }
   ],
   "source": [
    "%load_ext autoreload\n",
    "%autoreload 2\n",
    "\n",
    "import torch\n",
    "import wandb\n",
    "import torch.nn.functional as F\n",
    "\n",
    "import numpy as np\n",
    "from pathlib import Path\n",
    "from torch_geometric.nn.models import GCN\n",
    "from ogb.nodeproppred import PygNodePropPredDataset\n",
    "from tqdm import tqdm\n",
    "from torch_geometric.datasets import Planetoid, Amazon\n",
    "from torch_geometric.utils import to_undirected\n",
    "#from OpenGraphCon import OpenGraph\n",
    "from open_dataset import load_dataset, load_arxiv, load_plentoid, create_class_folds,prepare_fold_masks"
   ]
  },
  {
   "cell_type": "code",
   "execution_count": 14,
   "id": "6db423fd-513d-4d7b-a27d-99718fe3e664",
   "metadata": {
    "scrolled": true
   },
   "outputs": [
    {
     "data": {
      "text/plain": [
       "Data(x=[2708, 1433], edge_index=[2, 10556], y=[2708], train_mask=[2708], val_mask=[2708], test_mask=[2708])"
      ]
     },
     "execution_count": 14,
     "metadata": {},
     "output_type": "execute_result"
    }
   ],
   "source": [
    "#data = load_plentoid(\"Cora\", train_portion=0.6, val_portion=0.2, test_portion=0.2, seed=0)\n",
    "data = load_arxiv()\n",
    "data = load_plentoid(\"cora\")\n",
    "data"
   ]
  },
  {
   "cell_type": "code",
   "execution_count": 15,
   "id": "eb07af09-7067-4325-976e-ffa7f3015980",
   "metadata": {},
   "outputs": [
    {
     "name": "stdout",
     "output_type": "stream",
     "text": [
      "0\n",
      "tensor([5, 3])\n",
      "1\n",
      "tensor([2, 0])\n",
      "2\n",
      "tensor([4, 1, 6])\n"
     ]
    }
   ],
   "source": [
    "unknown_class_ratio=0.2\n",
    "folds = create_class_folds(data, unknown_class_ratio=unknown_class_ratio)\n",
    "folds\n",
    "for i, f in enumerate(folds):\n",
    "    print(i)\n",
    "    print(f)\n",
    "path = Path(\"fold_indices/cora_class_split_\"+str(unknown_class_ratio)+\".pt\")\n",
    "torch.save(folds, path)"
   ]
  },
  {
   "cell_type": "code",
   "execution_count": 16,
   "id": "a2155150-7642-4bed-9b68-b7ce0f85c77c",
   "metadata": {},
   "outputs": [
    {
     "data": {
      "text/plain": [
       "[tensor([5, 3]), tensor([2, 0]), tensor([4, 1, 6])]"
      ]
     },
     "execution_count": 16,
     "metadata": {},
     "output_type": "execute_result"
    }
   ],
   "source": [
    "torch.load(path)"
   ]
  },
  {
   "cell_type": "code",
   "execution_count": 17,
   "id": "8a46f236-7fdd-4d19-8275-387f1ce646f5",
   "metadata": {},
   "outputs": [],
   "source": [
    "n_folds = len(folds)\n",
    "datasets = []\n",
    "\n",
    "for test_fold_idx in range(n_folds):\n",
    "    val_fold_idx = (test_fold_idx - 1) % n_folds\n",
    "    data_new = prepare_fold_masks(data, folds, val_fold_idx, test_fold_idx)\n",
    "    datasets.append(data_new)"
   ]
  },
  {
   "cell_type": "code",
   "execution_count": 18,
   "id": "2edee229-8725-4261-9834-face0187a085",
   "metadata": {},
   "outputs": [
    {
     "data": {
      "text/plain": [
       "Data(x=[2708, 1433], edge_index=[2, 10556], y=[2708], train_mask=[2708], val_mask=[2708], test_mask=[2708], classes=[7], known_classes=[2], val_classes=[3], test_classes=[2], unknown_classes=[5], known_class_mask=[2708], labeled_mask=[2708], val_class_mask=[2708], known_class_val_mask=[2708], unknown_class_val_mask=[2708], all_class_val_mask=[2708], test_class_mask=[2708], known_class_test_mask=[2708], unknown_class_test_mask=[2708], all_class_test_mask=[2708], unlabeled_mask=[2708])"
      ]
     },
     "execution_count": 18,
     "metadata": {},
     "output_type": "execute_result"
    }
   ],
   "source": [
    "datasets[0]"
   ]
  },
  {
   "cell_type": "code",
   "execution_count": 19,
   "id": "0a0096f2-b602-46c7-b9e2-da651c015536",
   "metadata": {},
   "outputs": [],
   "source": [
    "known_val_acc = 2\n",
    "result_dict = {\n",
    "        \"known_val_acc\" : known_val_acc,\n",
    "    }"
   ]
  },
  {
   "cell_type": "code",
   "execution_count": null,
   "id": "0ae3f0c4-cb8b-4040-8fef-fac295f14783",
   "metadata": {},
   "outputs": [],
   "source": []
  },
  {
   "cell_type": "code",
   "execution_count": 20,
   "id": "d645e588-0a54-45f7-a9d5-4d4b8ce7d36c",
   "metadata": {},
   "outputs": [],
   "source": [
    "def create_23_split(ds_name):\n",
    "    dataset = Amazon(root='dataset/'+ds_name+\"/\", name=ds_name)\n",
    "    #dataset = Planetoid(root='dataset/'+ds_name+\"/\", name=ds_name)\n",
    "\n",
    "    y = dataset[0].y.cpu().detach().numpy()\n",
    "    unique, counts = np.unique(y, return_counts=True)\n",
    "    train_mask = []\n",
    "    val_mask = []\n",
    "    test_mask = []\n",
    "    for seed in tqdm(range(10)):\n",
    "        rng = np.random.default_rng(seed)\n",
    "        train = []\n",
    "        val = []\n",
    "        test = []\n",
    "\n",
    "        for cl in unique:\n",
    "            tmp = np.argwhere(y==cl)\n",
    "            rng.shuffle(tmp)\n",
    "            train.append(tmp[:20])\n",
    "            val.append(tmp[20:50])\n",
    "            test.append(tmp[50:])\n",
    "\n",
    "        train_ix = np.concatenate(train)\n",
    "        val_ix = np.concatenate(val)\n",
    "        test_ix = np.concatenate(test)\n",
    "\n",
    "        train = torch.full_like(dataset[0].y, False, dtype=torch.bool)\n",
    "        train[train_ix] = True\n",
    "        val = torch.full_like(dataset[0].y, False, dtype=torch.bool)\n",
    "        val[val_ix] = True\n",
    "        test = torch.full_like(dataset[0].y, False, dtype=torch.bool)\n",
    "        test[test_ix] = True\n",
    "        train_mask.append(train)\n",
    "        val_mask.append(val)\n",
    "        test_mask.append(test)\n",
    "    dict = {\"train\":torch.stack(train_mask, 1), \"valid\":torch.stack(val_mask, 1), \"test\":torch.stack(test_mask, 1)}\n",
    "    torch.save(dict,\"dataset/\"+ds_name+\"/own_23_splits.pt\")"
   ]
  },
  {
   "cell_type": "code",
   "execution_count": 24,
   "id": "96540d48-072c-44c7-9d2a-7a760e87bbbe",
   "metadata": {},
   "outputs": [
    {
     "name": "stderr",
     "output_type": "stream",
     "text": [
      "Downloading https://github.com/shchur/gnn-benchmark/raw/master/data/npz/amazon_electronics_computers.npz\n",
      "Processing...\n",
      "Done!\n",
      "100%|███████████████████████████████████████████████████████████████████████████████████████████████████████| 10/10 [00:00<00:00, 86.66it/s]\n"
     ]
    }
   ],
   "source": [
    "create_23_split(\"computers\")"
   ]
  },
  {
   "cell_type": "code",
   "execution_count": 27,
   "id": "629b811b-080a-448a-903c-03d3e1133027",
   "metadata": {},
   "outputs": [
    {
     "data": {
      "text/plain": [
       "{'train': tensor([[False, False, False,  ..., False, False, False],\n",
       "         [False, False, False,  ..., False, False, False],\n",
       "         [False, False, False,  ..., False, False, False],\n",
       "         ...,\n",
       "         [False, False, False,  ..., False, False, False],\n",
       "         [False, False, False,  ..., False, False, False],\n",
       "         [False, False, False,  ..., False, False, False]]),\n",
       " 'valid': tensor([[False, False, False,  ..., False, False, False],\n",
       "         [False, False, False,  ..., False, False, False],\n",
       "         [False, False, False,  ..., False, False, False],\n",
       "         ...,\n",
       "         [False, False, False,  ..., False, False, False],\n",
       "         [False, False, False,  ..., False, False, False],\n",
       "         [False, False, False,  ..., False, False, False]]),\n",
       " 'test': tensor([[True, True, True,  ..., True, True, True],\n",
       "         [True, True, True,  ..., True, True, True],\n",
       "         [True, True, True,  ..., True, True, True],\n",
       "         ...,\n",
       "         [True, True, True,  ..., True, True, True],\n",
       "         [True, True, True,  ..., True, True, True],\n",
       "         [True, True, True,  ..., True, True, True]])}"
      ]
     },
     "execution_count": 27,
     "metadata": {},
     "output_type": "execute_result"
    }
   ],
   "source": [
    "ds_name = \"computers\"\n",
    "splits = torch.load(\"dataset/\"+ds_name+\"/own_23_splits.pt\")\n",
    "splits"
   ]
  },
  {
   "cell_type": "code",
   "execution_count": 29,
   "id": "2734eca1-237e-4abc-ac89-9c76791a459b",
   "metadata": {},
   "outputs": [
    {
     "data": {
      "text/plain": [
       "tensor([[False, False, False,  ..., False, False, False],\n",
       "        [False, False, False,  ..., False, False, False],\n",
       "        [False, False, False,  ..., False, False, False],\n",
       "        ...,\n",
       "        [False, False, False,  ..., False, False, False],\n",
       "        [False, False, False,  ..., False, False, False],\n",
       "        [False, False, False,  ..., False, False, False]])"
      ]
     },
     "execution_count": 29,
     "metadata": {},
     "output_type": "execute_result"
    }
   ],
   "source": [
    "splits[\"test\"]"
   ]
  },
  {
   "cell_type": "code",
   "execution_count": null,
   "id": "862f1f96-522d-4b05-8be3-472119059ca7",
   "metadata": {},
   "outputs": [],
   "source": []
  }
 ],
 "metadata": {
  "kernelspec": {
   "display_name": "Python 3 (ipykernel)",
   "language": "python",
   "name": "python3"
  },
  "language_info": {
   "codemirror_mode": {
    "name": "ipython",
    "version": 3
   },
   "file_extension": ".py",
   "mimetype": "text/x-python",
   "name": "python",
   "nbconvert_exporter": "python",
   "pygments_lexer": "ipython3",
   "version": "3.10.12"
  }
 },
 "nbformat": 4,
 "nbformat_minor": 5
}
