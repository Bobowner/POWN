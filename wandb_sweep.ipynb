{
 "cells": [
  {
   "cell_type": "code",
   "execution_count": 1,
   "id": "d9a321c1-57dc-44a5-bf7b-389215102f88",
   "metadata": {},
   "outputs": [
    {
     "name": "stdout",
     "output_type": "stream",
     "text": [
      "Create sweep with ID: dryakaty\n",
      "Sweep URL: https://wandb.ai/marcel-hoffmann-1302/uncategorized/sweeps/dryakaty\n"
     ]
    },
    {
     "name": "stderr",
     "output_type": "stream",
     "text": [
      "\u001b[34m\u001b[1mwandb\u001b[0m: Agent Starting Run: bs863swh with config:\n",
      "\u001b[34m\u001b[1mwandb\u001b[0m: \ta: 1\n",
      "\u001b[34m\u001b[1mwandb\u001b[0m: Currently logged in as: \u001b[33mmarcel-hoffmann-1302\u001b[0m. Use \u001b[1m`wandb login --relogin`\u001b[0m to force relogin\n"
     ]
    },
    {
     "data": {
      "text/html": [
       "Tracking run with wandb version 0.15.8"
      ],
      "text/plain": [
       "<IPython.core.display.HTML object>"
      ]
     },
     "metadata": {},
     "output_type": "display_data"
    },
    {
     "data": {
      "text/html": [
       "Run data is saved locally in <code>/media/data1/mhoffmann/marcel/opencon_mod/wandb/run-20230804_131744-bs863swh</code>"
      ],
      "text/plain": [
       "<IPython.core.display.HTML object>"
      ]
     },
     "metadata": {},
     "output_type": "display_data"
    },
    {
     "data": {
      "text/html": [
       "Syncing run <strong><a href='https://wandb.ai/marcel-hoffmann-1302/uncategorized/runs/bs863swh' target=\"_blank\">stilted-sweep-1</a></strong> to <a href='https://wandb.ai/marcel-hoffmann-1302/uncategorized' target=\"_blank\">Weights & Biases</a> (<a href='https://wandb.me/run' target=\"_blank\">docs</a>)<br/>Sweep page: <a href='https://wandb.ai/marcel-hoffmann-1302/uncategorized/sweeps/dryakaty' target=\"_blank\">https://wandb.ai/marcel-hoffmann-1302/uncategorized/sweeps/dryakaty</a>"
      ],
      "text/plain": [
       "<IPython.core.display.HTML object>"
      ]
     },
     "metadata": {},
     "output_type": "display_data"
    },
    {
     "data": {
      "text/html": [
       " View project at <a href='https://wandb.ai/marcel-hoffmann-1302/uncategorized' target=\"_blank\">https://wandb.ai/marcel-hoffmann-1302/uncategorized</a>"
      ],
      "text/plain": [
       "<IPython.core.display.HTML object>"
      ]
     },
     "metadata": {},
     "output_type": "display_data"
    },
    {
     "data": {
      "text/html": [
       " View sweep at <a href='https://wandb.ai/marcel-hoffmann-1302/uncategorized/sweeps/dryakaty' target=\"_blank\">https://wandb.ai/marcel-hoffmann-1302/uncategorized/sweeps/dryakaty</a>"
      ],
      "text/plain": [
       "<IPython.core.display.HTML object>"
      ]
     },
     "metadata": {},
     "output_type": "display_data"
    },
    {
     "data": {
      "text/html": [
       " View run at <a href='https://wandb.ai/marcel-hoffmann-1302/uncategorized/runs/bs863swh' target=\"_blank\">https://wandb.ai/marcel-hoffmann-1302/uncategorized/runs/bs863swh</a>"
      ],
      "text/plain": [
       "<IPython.core.display.HTML object>"
      ]
     },
     "metadata": {},
     "output_type": "display_data"
    },
    {
     "data": {
      "text/html": [
       "Waiting for W&B process to finish... <strong style=\"color:green\">(success).</strong>"
      ],
      "text/plain": [
       "<IPython.core.display.HTML object>"
      ]
     },
     "metadata": {},
     "output_type": "display_data"
    },
    {
     "data": {
      "text/html": [
       "<style>\n",
       "    table.wandb td:nth-child(1) { padding: 0 10px; text-align: left ; width: auto;} td:nth-child(2) {text-align: left ; width: 100%}\n",
       "    .wandb-row { display: flex; flex-direction: row; flex-wrap: wrap; justify-content: flex-start; width: 100% }\n",
       "    .wandb-col { display: flex; flex-direction: column; flex-basis: 100%; flex: 1; padding: 10px; }\n",
       "    </style>\n",
       "<div class=\"wandb-row\"><div class=\"wandb-col\"><h3>Run history:</h3><br/><table class=\"wandb\"><tr><td>a</td><td>▁</td></tr><tr><td>accuracy</td><td>▁</td></tr></table><br/></div><div class=\"wandb-col\"><h3>Run summary:</h3><br/><table class=\"wandb\"><tr><td>a</td><td>1</td></tr><tr><td>accuracy</td><td>2</td></tr></table><br/></div></div>"
      ],
      "text/plain": [
       "<IPython.core.display.HTML object>"
      ]
     },
     "metadata": {},
     "output_type": "display_data"
    },
    {
     "data": {
      "text/html": [
       " View run <strong style=\"color:#cdcd00\">stilted-sweep-1</strong> at: <a href='https://wandb.ai/marcel-hoffmann-1302/uncategorized/runs/bs863swh' target=\"_blank\">https://wandb.ai/marcel-hoffmann-1302/uncategorized/runs/bs863swh</a><br/> View job at <a href='https://wandb.ai/marcel-hoffmann-1302/uncategorized/jobs/QXJ0aWZhY3RDb2xsZWN0aW9uOjg3OTAzNTUy/version_details/v0' target=\"_blank\">https://wandb.ai/marcel-hoffmann-1302/uncategorized/jobs/QXJ0aWZhY3RDb2xsZWN0aW9uOjg3OTAzNTUy/version_details/v0</a><br/>Synced 4 W&B file(s), 0 media file(s), 2 artifact file(s) and 0 other file(s)"
      ],
      "text/plain": [
       "<IPython.core.display.HTML object>"
      ]
     },
     "metadata": {},
     "output_type": "display_data"
    },
    {
     "data": {
      "text/html": [
       "Find logs at: <code>./wandb/run-20230804_131744-bs863swh/logs</code>"
      ],
      "text/plain": [
       "<IPython.core.display.HTML object>"
      ]
     },
     "metadata": {},
     "output_type": "display_data"
    },
    {
     "name": "stderr",
     "output_type": "stream",
     "text": [
      "\u001b[34m\u001b[1mwandb\u001b[0m: Agent Starting Run: fypjs562 with config:\n",
      "\u001b[34m\u001b[1mwandb\u001b[0m: \ta: 2\n"
     ]
    },
    {
     "data": {
      "text/html": [
       "Tracking run with wandb version 0.15.8"
      ],
      "text/plain": [
       "<IPython.core.display.HTML object>"
      ]
     },
     "metadata": {},
     "output_type": "display_data"
    },
    {
     "data": {
      "text/html": [
       "Run data is saved locally in <code>/media/data1/mhoffmann/marcel/opencon_mod/wandb/run-20230804_131754-fypjs562</code>"
      ],
      "text/plain": [
       "<IPython.core.display.HTML object>"
      ]
     },
     "metadata": {},
     "output_type": "display_data"
    },
    {
     "data": {
      "text/html": [
       "Syncing run <strong><a href='https://wandb.ai/marcel-hoffmann-1302/uncategorized/runs/fypjs562' target=\"_blank\">kind-sweep-2</a></strong> to <a href='https://wandb.ai/marcel-hoffmann-1302/uncategorized' target=\"_blank\">Weights & Biases</a> (<a href='https://wandb.me/run' target=\"_blank\">docs</a>)<br/>Sweep page: <a href='https://wandb.ai/marcel-hoffmann-1302/uncategorized/sweeps/dryakaty' target=\"_blank\">https://wandb.ai/marcel-hoffmann-1302/uncategorized/sweeps/dryakaty</a>"
      ],
      "text/plain": [
       "<IPython.core.display.HTML object>"
      ]
     },
     "metadata": {},
     "output_type": "display_data"
    },
    {
     "data": {
      "text/html": [
       " View project at <a href='https://wandb.ai/marcel-hoffmann-1302/uncategorized' target=\"_blank\">https://wandb.ai/marcel-hoffmann-1302/uncategorized</a>"
      ],
      "text/plain": [
       "<IPython.core.display.HTML object>"
      ]
     },
     "metadata": {},
     "output_type": "display_data"
    },
    {
     "data": {
      "text/html": [
       " View sweep at <a href='https://wandb.ai/marcel-hoffmann-1302/uncategorized/sweeps/dryakaty' target=\"_blank\">https://wandb.ai/marcel-hoffmann-1302/uncategorized/sweeps/dryakaty</a>"
      ],
      "text/plain": [
       "<IPython.core.display.HTML object>"
      ]
     },
     "metadata": {},
     "output_type": "display_data"
    },
    {
     "data": {
      "text/html": [
       " View run at <a href='https://wandb.ai/marcel-hoffmann-1302/uncategorized/runs/fypjs562' target=\"_blank\">https://wandb.ai/marcel-hoffmann-1302/uncategorized/runs/fypjs562</a>"
      ],
      "text/plain": [
       "<IPython.core.display.HTML object>"
      ]
     },
     "metadata": {},
     "output_type": "display_data"
    },
    {
     "data": {
      "text/html": [
       "Waiting for W&B process to finish... <strong style=\"color:green\">(success).</strong>"
      ],
      "text/plain": [
       "<IPython.core.display.HTML object>"
      ]
     },
     "metadata": {},
     "output_type": "display_data"
    },
    {
     "data": {
      "application/vnd.jupyter.widget-view+json": {
       "model_id": "283c488fb0fb4521bc7a57ec904a1c30",
       "version_major": 2,
       "version_minor": 0
      },
      "text/plain": [
       "VBox(children=(Label(value='0.027 MB of 0.030 MB uploaded (0.000 MB deduped)\\r'), FloatProgress(value=0.888112…"
      ]
     },
     "metadata": {},
     "output_type": "display_data"
    },
    {
     "data": {
      "text/html": [
       "<style>\n",
       "    table.wandb td:nth-child(1) { padding: 0 10px; text-align: left ; width: auto;} td:nth-child(2) {text-align: left ; width: 100%}\n",
       "    .wandb-row { display: flex; flex-direction: row; flex-wrap: wrap; justify-content: flex-start; width: 100% }\n",
       "    .wandb-col { display: flex; flex-direction: column; flex-basis: 100%; flex: 1; padding: 10px; }\n",
       "    </style>\n",
       "<div class=\"wandb-row\"><div class=\"wandb-col\"><h3>Run history:</h3><br/><table class=\"wandb\"><tr><td>a</td><td>▁</td></tr><tr><td>accuracy</td><td>▁</td></tr></table><br/></div><div class=\"wandb-col\"><h3>Run summary:</h3><br/><table class=\"wandb\"><tr><td>a</td><td>2</td></tr><tr><td>accuracy</td><td>3</td></tr></table><br/></div></div>"
      ],
      "text/plain": [
       "<IPython.core.display.HTML object>"
      ]
     },
     "metadata": {},
     "output_type": "display_data"
    },
    {
     "data": {
      "text/html": [
       " View run <strong style=\"color:#cdcd00\">kind-sweep-2</strong> at: <a href='https://wandb.ai/marcel-hoffmann-1302/uncategorized/runs/fypjs562' target=\"_blank\">https://wandb.ai/marcel-hoffmann-1302/uncategorized/runs/fypjs562</a><br/> View job at <a href='https://wandb.ai/marcel-hoffmann-1302/uncategorized/jobs/QXJ0aWZhY3RDb2xsZWN0aW9uOjg3OTAzNTUy/version_details/v0' target=\"_blank\">https://wandb.ai/marcel-hoffmann-1302/uncategorized/jobs/QXJ0aWZhY3RDb2xsZWN0aW9uOjg3OTAzNTUy/version_details/v0</a><br/>Synced 4 W&B file(s), 0 media file(s), 0 artifact file(s) and 0 other file(s)"
      ],
      "text/plain": [
       "<IPython.core.display.HTML object>"
      ]
     },
     "metadata": {},
     "output_type": "display_data"
    },
    {
     "data": {
      "text/html": [
       "Find logs at: <code>./wandb/run-20230804_131754-fypjs562/logs</code>"
      ],
      "text/plain": [
       "<IPython.core.display.HTML object>"
      ]
     },
     "metadata": {},
     "output_type": "display_data"
    },
    {
     "name": "stderr",
     "output_type": "stream",
     "text": [
      "\u001b[34m\u001b[1mwandb\u001b[0m: Agent Starting Run: hp0dkrfs with config:\n",
      "\u001b[34m\u001b[1mwandb\u001b[0m: \ta: 3\n"
     ]
    },
    {
     "data": {
      "application/vnd.jupyter.widget-view+json": {
       "model_id": "ba3a4892f5f544d7856ef99d102b3501",
       "version_major": 2,
       "version_minor": 0
      },
      "text/plain": [
       "VBox(children=(Label(value='Waiting for wandb.init()...\\r'), FloatProgress(value=0.016668765567010267, max=1.0…"
      ]
     },
     "metadata": {},
     "output_type": "display_data"
    },
    {
     "data": {
      "text/html": [
       "Tracking run with wandb version 0.15.8"
      ],
      "text/plain": [
       "<IPython.core.display.HTML object>"
      ]
     },
     "metadata": {},
     "output_type": "display_data"
    },
    {
     "data": {
      "text/html": [
       "Run data is saved locally in <code>/media/data1/mhoffmann/marcel/opencon_mod/wandb/run-20230804_131805-hp0dkrfs</code>"
      ],
      "text/plain": [
       "<IPython.core.display.HTML object>"
      ]
     },
     "metadata": {},
     "output_type": "display_data"
    },
    {
     "data": {
      "text/html": [
       "Syncing run <strong><a href='https://wandb.ai/marcel-hoffmann-1302/uncategorized/runs/hp0dkrfs' target=\"_blank\">efficient-sweep-3</a></strong> to <a href='https://wandb.ai/marcel-hoffmann-1302/uncategorized' target=\"_blank\">Weights & Biases</a> (<a href='https://wandb.me/run' target=\"_blank\">docs</a>)<br/>Sweep page: <a href='https://wandb.ai/marcel-hoffmann-1302/uncategorized/sweeps/dryakaty' target=\"_blank\">https://wandb.ai/marcel-hoffmann-1302/uncategorized/sweeps/dryakaty</a>"
      ],
      "text/plain": [
       "<IPython.core.display.HTML object>"
      ]
     },
     "metadata": {},
     "output_type": "display_data"
    },
    {
     "data": {
      "text/html": [
       " View project at <a href='https://wandb.ai/marcel-hoffmann-1302/uncategorized' target=\"_blank\">https://wandb.ai/marcel-hoffmann-1302/uncategorized</a>"
      ],
      "text/plain": [
       "<IPython.core.display.HTML object>"
      ]
     },
     "metadata": {},
     "output_type": "display_data"
    },
    {
     "data": {
      "text/html": [
       " View sweep at <a href='https://wandb.ai/marcel-hoffmann-1302/uncategorized/sweeps/dryakaty' target=\"_blank\">https://wandb.ai/marcel-hoffmann-1302/uncategorized/sweeps/dryakaty</a>"
      ],
      "text/plain": [
       "<IPython.core.display.HTML object>"
      ]
     },
     "metadata": {},
     "output_type": "display_data"
    },
    {
     "data": {
      "text/html": [
       " View run at <a href='https://wandb.ai/marcel-hoffmann-1302/uncategorized/runs/hp0dkrfs' target=\"_blank\">https://wandb.ai/marcel-hoffmann-1302/uncategorized/runs/hp0dkrfs</a>"
      ],
      "text/plain": [
       "<IPython.core.display.HTML object>"
      ]
     },
     "metadata": {},
     "output_type": "display_data"
    },
    {
     "data": {
      "text/html": [
       "Waiting for W&B process to finish... <strong style=\"color:green\">(success).</strong>"
      ],
      "text/plain": [
       "<IPython.core.display.HTML object>"
      ]
     },
     "metadata": {},
     "output_type": "display_data"
    },
    {
     "data": {
      "application/vnd.jupyter.widget-view+json": {
       "model_id": "d50f4703ef88435aba3804b2d7c19dff",
       "version_major": 2,
       "version_minor": 0
      },
      "text/plain": [
       "VBox(children=(Label(value='0.027 MB of 0.030 MB uploaded (0.000 MB deduped)\\r'), FloatProgress(value=0.888120…"
      ]
     },
     "metadata": {},
     "output_type": "display_data"
    },
    {
     "data": {
      "text/html": [
       "<style>\n",
       "    table.wandb td:nth-child(1) { padding: 0 10px; text-align: left ; width: auto;} td:nth-child(2) {text-align: left ; width: 100%}\n",
       "    .wandb-row { display: flex; flex-direction: row; flex-wrap: wrap; justify-content: flex-start; width: 100% }\n",
       "    .wandb-col { display: flex; flex-direction: column; flex-basis: 100%; flex: 1; padding: 10px; }\n",
       "    </style>\n",
       "<div class=\"wandb-row\"><div class=\"wandb-col\"><h3>Run history:</h3><br/><table class=\"wandb\"><tr><td>a</td><td>▁</td></tr><tr><td>accuracy</td><td>▁</td></tr></table><br/></div><div class=\"wandb-col\"><h3>Run summary:</h3><br/><table class=\"wandb\"><tr><td>a</td><td>3</td></tr><tr><td>accuracy</td><td>4</td></tr></table><br/></div></div>"
      ],
      "text/plain": [
       "<IPython.core.display.HTML object>"
      ]
     },
     "metadata": {},
     "output_type": "display_data"
    },
    {
     "data": {
      "text/html": [
       " View run <strong style=\"color:#cdcd00\">efficient-sweep-3</strong> at: <a href='https://wandb.ai/marcel-hoffmann-1302/uncategorized/runs/hp0dkrfs' target=\"_blank\">https://wandb.ai/marcel-hoffmann-1302/uncategorized/runs/hp0dkrfs</a><br/> View job at <a href='https://wandb.ai/marcel-hoffmann-1302/uncategorized/jobs/QXJ0aWZhY3RDb2xsZWN0aW9uOjg3OTAzNTUy/version_details/v0' target=\"_blank\">https://wandb.ai/marcel-hoffmann-1302/uncategorized/jobs/QXJ0aWZhY3RDb2xsZWN0aW9uOjg3OTAzNTUy/version_details/v0</a><br/>Synced 4 W&B file(s), 0 media file(s), 0 artifact file(s) and 0 other file(s)"
      ],
      "text/plain": [
       "<IPython.core.display.HTML object>"
      ]
     },
     "metadata": {},
     "output_type": "display_data"
    },
    {
     "data": {
      "text/html": [
       "Find logs at: <code>./wandb/run-20230804_131805-hp0dkrfs/logs</code>"
      ],
      "text/plain": [
       "<IPython.core.display.HTML object>"
      ]
     },
     "metadata": {},
     "output_type": "display_data"
    },
    {
     "name": "stderr",
     "output_type": "stream",
     "text": [
      "\u001b[34m\u001b[1mwandb\u001b[0m: Agent Starting Run: b4dwkkln with config:\n",
      "\u001b[34m\u001b[1mwandb\u001b[0m: \ta: 4\n"
     ]
    },
    {
     "data": {
      "text/html": [
       "Tracking run with wandb version 0.15.8"
      ],
      "text/plain": [
       "<IPython.core.display.HTML object>"
      ]
     },
     "metadata": {},
     "output_type": "display_data"
    },
    {
     "data": {
      "text/html": [
       "Run data is saved locally in <code>/media/data1/mhoffmann/marcel/opencon_mod/wandb/run-20230804_131816-b4dwkkln</code>"
      ],
      "text/plain": [
       "<IPython.core.display.HTML object>"
      ]
     },
     "metadata": {},
     "output_type": "display_data"
    },
    {
     "data": {
      "text/html": [
       "Syncing run <strong><a href='https://wandb.ai/marcel-hoffmann-1302/uncategorized/runs/b4dwkkln' target=\"_blank\">legendary-sweep-4</a></strong> to <a href='https://wandb.ai/marcel-hoffmann-1302/uncategorized' target=\"_blank\">Weights & Biases</a> (<a href='https://wandb.me/run' target=\"_blank\">docs</a>)<br/>Sweep page: <a href='https://wandb.ai/marcel-hoffmann-1302/uncategorized/sweeps/dryakaty' target=\"_blank\">https://wandb.ai/marcel-hoffmann-1302/uncategorized/sweeps/dryakaty</a>"
      ],
      "text/plain": [
       "<IPython.core.display.HTML object>"
      ]
     },
     "metadata": {},
     "output_type": "display_data"
    },
    {
     "data": {
      "text/html": [
       " View project at <a href='https://wandb.ai/marcel-hoffmann-1302/uncategorized' target=\"_blank\">https://wandb.ai/marcel-hoffmann-1302/uncategorized</a>"
      ],
      "text/plain": [
       "<IPython.core.display.HTML object>"
      ]
     },
     "metadata": {},
     "output_type": "display_data"
    },
    {
     "data": {
      "text/html": [
       " View sweep at <a href='https://wandb.ai/marcel-hoffmann-1302/uncategorized/sweeps/dryakaty' target=\"_blank\">https://wandb.ai/marcel-hoffmann-1302/uncategorized/sweeps/dryakaty</a>"
      ],
      "text/plain": [
       "<IPython.core.display.HTML object>"
      ]
     },
     "metadata": {},
     "output_type": "display_data"
    },
    {
     "data": {
      "text/html": [
       " View run at <a href='https://wandb.ai/marcel-hoffmann-1302/uncategorized/runs/b4dwkkln' target=\"_blank\">https://wandb.ai/marcel-hoffmann-1302/uncategorized/runs/b4dwkkln</a>"
      ],
      "text/plain": [
       "<IPython.core.display.HTML object>"
      ]
     },
     "metadata": {},
     "output_type": "display_data"
    },
    {
     "data": {
      "text/html": [
       "Waiting for W&B process to finish... <strong style=\"color:green\">(success).</strong>"
      ],
      "text/plain": [
       "<IPython.core.display.HTML object>"
      ]
     },
     "metadata": {},
     "output_type": "display_data"
    },
    {
     "data": {
      "application/vnd.jupyter.widget-view+json": {
       "model_id": "454b13a5ab39481b9427644e00618b43",
       "version_major": 2,
       "version_minor": 0
      },
      "text/plain": [
       "VBox(children=(Label(value='0.027 MB of 0.027 MB uploaded (0.000 MB deduped)\\r'), FloatProgress(value=1.0, max…"
      ]
     },
     "metadata": {},
     "output_type": "display_data"
    },
    {
     "data": {
      "text/html": [
       "<style>\n",
       "    table.wandb td:nth-child(1) { padding: 0 10px; text-align: left ; width: auto;} td:nth-child(2) {text-align: left ; width: 100%}\n",
       "    .wandb-row { display: flex; flex-direction: row; flex-wrap: wrap; justify-content: flex-start; width: 100% }\n",
       "    .wandb-col { display: flex; flex-direction: column; flex-basis: 100%; flex: 1; padding: 10px; }\n",
       "    </style>\n",
       "<div class=\"wandb-row\"><div class=\"wandb-col\"><h3>Run history:</h3><br/><table class=\"wandb\"><tr><td>a</td><td>▁</td></tr><tr><td>accuracy</td><td>▁</td></tr></table><br/></div><div class=\"wandb-col\"><h3>Run summary:</h3><br/><table class=\"wandb\"><tr><td>a</td><td>4</td></tr><tr><td>accuracy</td><td>5</td></tr></table><br/></div></div>"
      ],
      "text/plain": [
       "<IPython.core.display.HTML object>"
      ]
     },
     "metadata": {},
     "output_type": "display_data"
    },
    {
     "data": {
      "text/html": [
       " View run <strong style=\"color:#cdcd00\">legendary-sweep-4</strong> at: <a href='https://wandb.ai/marcel-hoffmann-1302/uncategorized/runs/b4dwkkln' target=\"_blank\">https://wandb.ai/marcel-hoffmann-1302/uncategorized/runs/b4dwkkln</a><br/> View job at <a href='https://wandb.ai/marcel-hoffmann-1302/uncategorized/jobs/QXJ0aWZhY3RDb2xsZWN0aW9uOjg3OTAzNTUy/version_details/v0' target=\"_blank\">https://wandb.ai/marcel-hoffmann-1302/uncategorized/jobs/QXJ0aWZhY3RDb2xsZWN0aW9uOjg3OTAzNTUy/version_details/v0</a><br/>Synced 4 W&B file(s), 0 media file(s), 0 artifact file(s) and 0 other file(s)"
      ],
      "text/plain": [
       "<IPython.core.display.HTML object>"
      ]
     },
     "metadata": {},
     "output_type": "display_data"
    },
    {
     "data": {
      "text/html": [
       "Find logs at: <code>./wandb/run-20230804_131816-b4dwkkln/logs</code>"
      ],
      "text/plain": [
       "<IPython.core.display.HTML object>"
      ]
     },
     "metadata": {},
     "output_type": "display_data"
    },
    {
     "name": "stderr",
     "output_type": "stream",
     "text": [
      "\u001b[34m\u001b[1mwandb\u001b[0m: Sweep Agent: Waiting for job.\n",
      "\u001b[34m\u001b[1mwandb\u001b[0m: Sweep Agent: Exiting.\n"
     ]
    }
   ],
   "source": [
    "import wandb\n",
    "\n",
    "sweep_configuration = {\n",
    "    \"name\": \"my-awesome-sweep\",\n",
    "    \"metric\": {\"name\": \"accuracy\", \"goal\": \"maximize\"},\n",
    "    \"method\": \"grid\",\n",
    "    \"parameters\": {\"a\": {\"values\": [1, 2, 3, 4]}},\n",
    "}\n",
    "\n",
    "\n",
    "def my_train_func():\n",
    "    # read the current value of parameter \"a\" from wandb.config\n",
    "    wandb.init()\n",
    "    a = wandb.config.a\n",
    "\n",
    "    wandb.log({\"a\": a, \"accuracy\": a + 1})\n",
    "\n",
    "\n",
    "sweep_id = wandb.sweep(sweep_configuration)\n",
    "\n",
    "# run the sweep\n",
    "wandb.agent(sweep_id, function=my_train_func)"
   ]
  },
  {
   "cell_type": "code",
   "execution_count": null,
   "id": "704401fb-fb1f-415f-9005-4336dc1dcbca",
   "metadata": {},
   "outputs": [],
   "source": []
  }
 ],
 "metadata": {
  "kernelspec": {
   "display_name": "Python 3 (ipykernel)",
   "language": "python",
   "name": "python3"
  },
  "language_info": {
   "codemirror_mode": {
    "name": "ipython",
    "version": 3
   },
   "file_extension": ".py",
   "mimetype": "text/x-python",
   "name": "python",
   "nbconvert_exporter": "python",
   "pygments_lexer": "ipython3",
   "version": "3.10.12"
  }
 },
 "nbformat": 4,
 "nbformat_minor": 5
}
